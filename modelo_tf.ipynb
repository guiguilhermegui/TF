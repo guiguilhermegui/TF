{
  "cells": [
    {
      "cell_type": "markdown",
      "metadata": {
        "colab_type": "text",
        "id": "view-in-github"
      },
      "source": [
        "<a href=\"https://colab.research.google.com/github/guiguilhermegui/TF/blob/main/modelo_tf.ipynb\" target=\"_parent\"><img src=\"https://colab.research.google.com/assets/colab-badge.svg\" alt=\"Open In Colab\"/></a>"
      ]
    },
    {
      "cell_type": "code",
      "execution_count": 1,
      "metadata": {
        "colab": {
          "base_uri": "https://localhost:8080/"
        },
        "id": "JEYpfqug3BmP",
        "jupyter": {
          "outputs_hidden": false
        },
        "outputId": "c8f22b0c-f2b4-4649-9b04-0639f5bbfca1"
      },
      "outputs": [],
      "source": [
        "# Checkout www.pygimli.org for more examples\n",
        "#!pip install pygimli tetgen"
      ]
    },
    {
      "cell_type": "markdown",
      "metadata": {
        "id": "anP4a6CL3BmT"
      },
      "source": [
        "\n",
        "# Hydrogeophysical modelling\n",
        "\n",
        "Coupled hydrogeophysical modelling example. This essentially represents the\n",
        "forward modelling step of the example presented in section 3.2 of the [pyGIMLi\n",
        "paper](http://www.sciencedirect.com/science/article/pii/S0098300417300584/pdfft?md5=44253eaacd5490e3fb32210671672496&pid=1-s2.0-S0098300417300584-main.pdf).\n"
      ]
    },
    {
      "cell_type": "markdown",
      "metadata": {
        "id": "IeQqztjy3BmV"
      },
      "source": [
        "Create geometry definition for the modelling domain\n",
        "\n"
      ]
    },
    {
      "cell_type": "code",
      "execution_count": 2,
      "metadata": {},
      "outputs": [],
      "source": [
        "# imports\n",
        "\n",
        "import numpy as np\n",
        "import matplotlib.pyplot as plt\n",
        "import pygimli as pg\n",
        "import pygimli.meshtools as mt\n",
        "import pygimli.physics.ert as ert\n",
        "import pygimli.physics.petro as petro\n",
        "from pygimli.physics import ERTManager"
      ]
    },
    {
      "cell_type": "code",
      "execution_count": 3,
      "metadata": {
        "id": "yvWaKQoU3BmW"
      },
      "outputs": [],
      "source": [
        "### Parametros\n",
        "## Espaciais\n",
        "# Espaciais dos furos\n",
        "bores = [-20, -15, -10, -5, 0, 5, 10, 15]                       # Posição central dos furos\n",
        "prof_poco=-0.9\n",
        "altura_poco= 0.1\n",
        "raio_poco=0.35   #precisa ser decimal Ex:\"3.00001\"\n",
        "\n",
        "# Espaciais do Terreno\n",
        "box_esq=-30\n",
        "box_dir=30\n",
        "box_top=0.01\n",
        "box_bottom=-20\n",
        "\n",
        "# Espaciais discretização de células\n",
        "mesh_area=0.4               # area da mesh em metros^2\n",
        "mesh_quality=30             # qualidade da mesh evitar valores acima de 33 por questões de performance\n",
        "\n",
        "## Hidráulicos do meio\n",
        "# Condutividade Hidráulica em m/s \n",
        "K_poco = 1e9       #poço\n",
        "K_mundo1 = 1e-6    #latossolo\n",
        "K_mundo2 = 1e3     #fratura \n",
        "K_mundo3 = 1e-3    #rocha\n",
        "#Marcador de região do modelo\n",
        "Mk_poco = 0       #poço\n",
        "Mk_mundo1 = 1    #latossolo     \n",
        "Mk_mundo2 = 2    #fratura \n",
        "Mk_mundo3 = 3    #rocha\n",
        "\n",
        "# Resumir Condutividades hidráulicas em uma variável só\n",
        "kMap = [[Mk_mundo1, K_mundo1],  [Mk_poco, K_poco], [Mk_mundo2,K_mundo2],[Mk_mundo3,K_mundo3] ]   #Use [[RegionMarker, ConductivityValue], ...]\n",
        "\n",
        "# Propriedades do meio poroso ADV\n",
        "phi = 0.3                   # Porosidade meio\n",
        "D = 0.01                    # Coeficiente de dispersão m^2/s\n",
        "\n",
        "\n",
        "## Traçador                  # Condutividade elétrica da água em S/m\n",
        "sigma_a = -0.00031            \n",
        "sigma_bx = 0.19330           # Termos da Eq. de Resistência/concentração = A+bx   \n",
        "TracerCon = 13.27            # Concentração em g/l\n",
        "cementation_exponent = 1.1,  # Exponente de cimentação para a resistividade do solo\n",
        "res_water = 10000            # Resistividade da água em Ohm.m\n",
        "\n",
        "\n",
        "# Resistividade do meio em Ohm.m\n",
        "Layer0=box_top\n",
        "RLayer0=300\n",
        "Layer1=-2                    # Prof. da camada 1\n",
        "RLayer1=150                  # Resistividade da camada 1\n",
        "Layer2=-8                    # Prof. da camada 2\n",
        "RLayer2=4464                 # Resistividade da camada 2\n",
        "Layer3=-24                   # Prof. da camada 3\n",
        "RLayer3=3300                 # Resistividade da camada 4\n",
        "\n",
        "# Configuração ERT \n",
        "ERT_dist= 600                # Distância total dos eletrodos em m\n",
        "ERT_elecs = 60               # Quantidade de eletrodos\n",
        "ERT_spac = 10                # Espaçamento entre os eletrodos em m\n",
        "ERT_Array = 'dd'             # wn, ws, wa, wb, dd, pd, pp, grad \n",
        "\n",
        "y_limit = 40                 # Set the Y-axis limit to cut off below DD12\n",
        "\n",
        "\n",
        "\n",
        "# Temporais\n",
        "TimeSimu_days = 1                     # Tempo de simulação em dias  \n",
        "TimeSimu_sec = TimeSimu_days*24*60*60   # Tempo de simulação em seg  \n",
        "TimeSimu_steps = 30*60                  # Quantidade de passos pra simulação\n",
        "number_of_timesERT = 12        # Número de vezes que a simulação de ERT é executada\n",
        "\n",
        "\n",
        "\"\"\" Cálculos Espaciais relativos do furo \"\"\"\n",
        "esq = '.' + f'{raio_poco:.2f}'.split('.')[1]\n",
        "dir = '.' + f'{1 - raio_poco:.2f}'.split('.')[1]#print(f'raio_poco={raio_poco:.2f} esq={esq} dir={dir}')\n",
        "\n",
        "\"\"\" Cálculo Espaçamento dos eletrodos \"\"\"\n",
        "elecs = np.linspace(-ERT_dist/2, ERT_dist/2, ERT_elecs)\n",
        "\n",
        "\n",
        "\"\"\" Cálculo tempo de simulação \"\"\"\n",
        "t = pg.utils.grange(0, TimeSimu_sec, n=TimeSimu_steps)"
      ]
    },
    {
      "cell_type": "code",
      "execution_count": 4,
      "metadata": {},
      "outputs": [],
      "source": [
        "## EDP - Condições de Contorno - potencial hidráulico \n",
        "basemundo_2 = 0.0             # Definir valores de fronteira pro potencial hidráulico  # fronteiras 1top, 2lat,3_fundo,4latmundo,-2basemundo,-1topomundo\n",
        "topo7 = 0.9\n",
        "#laterais8 = h202             # Defina a altura da água nas laterais\n",
        "#fundo9 = 0.9   #h20          # Defina a altura da água no poço\n",
        "pBound = {\"Dirichlet\": {-2: basemundo_2, -1:0.0, 1: topo7}} #{marker: value, ...} #Dirichlet, Neumann, Robin #pBound = pBound.append(\"Neumann\":{2: laterais8, 3:fundo9})\n",
        "\n"
      ]
    },
    {
      "cell_type": "code",
      "execution_count": null,
      "metadata": {
        "id": "FLLmr6Fa3BmX",
        "jupyter": {
          "outputs_hidden": false
        },
        "outputId": "93ce1737-995b-44da-ebbd-e776c1eca3fe"
      },
      "outputs": [],
      "source": [
        "# Create a 2D world box\n",
        "world = mt.createWorld(start=[box_esq, box_top], end=[box_dir, box_bottom], WorldMarker=False, layers=[Layer1,Layer2]) \n",
        "\n",
        "# Create boreholes\n",
        "poco = []\n",
        "for pos in bores:\n",
        "    poco.append(mt.createRectangle(start=[pos - raio_poco, altura_poco], end=[pos + raio_poco,prof_poco],)) #marker=42, isHole=True, boundaryMarker=12))\n",
        "boreholes = poco[0]\n",
        "for borehole in poco[1:]:\n",
        "    boreholes = boreholes + borehole\n",
        "\n",
        "\n",
        "# Create geometry of model\n",
        "geom = world + boreholes\n",
        "#pg.show(mesh)\n",
        "\n",
        "# Create figure\n",
        "ax, _ = pg.show(geom, markers=True, orientation='vertical', figsize=(15, 8), showNodes=True, showMesh=True)\n",
        "\n",
        "\"\"\" node = [] # Print nodes\n",
        "for i, n in enumerate(geom.nodes()):\n",
        "    ax.text(n.x(), n.y(), str(i), color='blue', size=10)\n",
        "    node.append([i, n.x(), n.y()]) \"\"\"\n",
        "\n"
      ]
    },
    {
      "cell_type": "code",
      "execution_count": null,
      "metadata": {},
      "outputs": [],
      "source": [
        "print(pBound)\n",
        "node = geom.nodes()\n",
        "print(node)  # This will print the object reference again\n",
        "\n",
        "\n",
        "for i in range(0, len(node), 4):# Print 4 lists of nodes per line, very useful for rectangles models\n",
        "    print('nodes' + str(node[i:i+4]))\n",
        "print()\n",
        "print(geom.nodes())\n"
      ]
    },
    {
      "cell_type": "code",
      "execution_count": null,
      "metadata": {},
      "outputs": [],
      "source": [
        "print(geom.boundaries)"
      ]
    },
    {
      "cell_type": "code",
      "execution_count": null,
      "metadata": {
        "id": "u9AQC2jl3Bmb",
        "outputId": "9d8adaf0-368a-42af-ea7b-d3b20f36be4c"
      },
      "outputs": [],
      "source": [
        "# Marcadores de Fronteira dos buracos\n",
        "\n",
        "bottom_boundaries = [boundary.id() for boundary in geom.boundaries() if boundary.center()[1] ==prof_poco]\n",
        "side_boundaries = [boundary.id() for boundary in geom.boundaries() if boundary.center()[0] ==box_esq] + [boundary.id() for boundary in geom.boundaries() if boundary.center()[0] ==box_dir]\n",
        "\n",
        "\n",
        "\"\"\" # Atribuição da numeracao das fronteiras boreholes\n",
        "def pos(count):\n",
        "    return pg.pos(node[count][1], node[count][2])\n",
        "for a in range(len(bottom_boundaries)):\n",
        "    geom.createEdge(geom.node(bottom_boundaries[a]), geom.node(right_boundaries[a]), marker=9)\n",
        "\n",
        "for a in range(len(right_boundaries)):\n",
        "    geom.createEdge(geom.node(top_boundaries[a]), geom.node(right_boundaries[a]), marker=8)\n",
        "\n",
        "for a in range(len(left_boundaries)):\n",
        "    geom.createEdge(geom.node(bottom_boundaries[a]), geom.node(left_boundaries[a]), marker=8)\n",
        "for a in range(len(top_boundaries)):\n",
        "    geom.createEdge(geom.node(left_boundaries[a]), geom.node(top_boundaries[a]), marker=7)\n",
        " \"\"\"\n",
        "pg.show(geom, label='Boundary marker', showNodes=True,markers=True, showMesh=True, figsize=(15, 8), orientation='vertical' )"
      ]
    },
    {
      "cell_type": "code",
      "execution_count": null,
      "metadata": {},
      "outputs": [],
      "source": []
    },
    {
      "cell_type": "code",
      "execution_count": null,
      "metadata": {},
      "outputs": [],
      "source": [
        "\n",
        "# Marcadores de Fronteira dos Terreno 3 Camadas\n",
        "\n",
        "pg.show(geom, label='Boundary marker', showNodes=True,markers=True, showMesh=True, figsize=(15, 8), orientation='vertical' )"
      ]
    },
    {
      "cell_type": "markdown",
      "metadata": {
        "id": "SSB_jA223Bmc"
      },
      "source": [
        "Fluid flow in a porous medium of slow non-viscous and non-frictional hydraulic\n",
        "movement is governed by Darcy's Law according to:\n",
        "\n",
        "\\begin{align}K^{-1}\\mathbf{v} + \\nabla p & = 0 \\\\\n",
        "   \\nabla \\cdot \\mathbf{v} & = 0\\\\\n",
        "   \\text{leading}\\,\\,\\text{to}\\,\\,\n",
        "   \\nabla\\cdot(K \\nabla p) & = 0 \\quad \\text{on} \\quad\\Omega\\end{align}\n",
        "\n",
        "We begin by defining isotropic values of hydraulic conductivity $K$ and\n",
        "mapping these to each mesh cell:\n",
        "\n"
      ]
    },
    {
      "cell_type": "code",
      "execution_count": null,
      "metadata": {},
      "outputs": [],
      "source": []
    },
    {
      "cell_type": "code",
      "execution_count": null,
      "metadata": {
        "id": "myFNzC_q3Bmf",
        "outputId": "54345b8d-ed3f-4658-d248-3c0d05e21c95"
      },
      "outputs": [],
      "source": [
        "## Resolução K  por Darcy\n",
        "# Map conductivity value per region to each cell in the given mesh\n",
        "\n",
        "mesh = mt.createMesh(geom, quality=mesh_quality, area=mesh_area, smooth=[1, 10])\n",
        "K = pg.solver.parseMapToCellArray(kMap, mesh)\n",
        "\n",
        "#pg.show(mesh, rhoa=K, label='Hydraulic conductivity $K$ in m/s', cMin=1e-10, cMax=1e12, logScale=True, grid=True)\n",
        "\n",
        "# Resolução da discretização do modelo de potencial hidráulico\n",
        "#p = np.random.rand(mesh.cellCount())   # Teste aleatorio\n",
        "\n",
        "# Resolver o modelo de potencial hidráulico\n",
        "p = pg.solver.solveFiniteElements(mesh, a=K, bc=pBound)#stats=True)\n",
        "\n",
        "# Atualizar a visualização ou armazenar resultados\n",
        "fig, axs = plt.subplots(1,2,figsize=(12, 12))\n",
        "pg.show(mesh, data=K, label='Condutividade Hidráulica $K$ em m/s', cMap= 'viridis',logScale=True, ax=axs[0],orientation='horizontal')\n",
        "pg.show(mesh, data=p, label='Potencial Hidráulico', cMin=np.min(p), cMax=np.max(p), ax=axs[1],orientation='horizontal')\n",
        "plt.show()"
      ]
    },
    {
      "cell_type": "markdown",
      "metadata": {
        "id": "Kh7kh7RD3Bmd"
      },
      "source": [
        "The problem further boundary conditions of the hydraulic potential. We use\n",
        "$p=p_0=0.75$ m on the left and $p=0$ on the right boundary of the modelling\n",
        "domain, equaling a hydraulic gradient of 1.75%.\n",
        "\n"
      ]
    },
    {
      "cell_type": "code",
      "execution_count": null,
      "metadata": {},
      "outputs": [],
      "source": []
    },
    {
      "cell_type": "markdown",
      "metadata": {},
      "source": [
        "\\begin{split}c \\frac{\\partial u}{\\partial t} & = \\nabla\\cdot(a \\nabla u)\n",
        "+ b u + f(\\mathbf{r},t)~~|~~\\Omega_{\\text{Mesh}}\\\\\n",
        "u & = h~~|~~\\Gamma_{\\text{Dirichlet}}\\\\\n",
        "a\\frac{\\partial u}{\\partial \\mathbf{n}} & =\n",
        "g~~|~~\\Gamma_{\\text{Neumann}}\\\\\n",
        "\\alpha u + \\beta\\frac{\\partial u}{\\partial \\mathbf{n}} & =\n",
        "\\gamma~~|~~\\Gamma_{\\text{Robin}}\\\\\n",
        "\\frac{\\partial u}{\\partial \\mathbf{n}} & =\n",
        "\\alpha(u_0-u)~~|~~\\Gamma_{\\text{Robin}}\\end{split}\n",
        "\n",
        "https://www.pygimli.org/pygimliapi/_generated/pygimli.solver.html#pygimli.solver.solveFiniteElements"
      ]
    },
    {
      "cell_type": "markdown",
      "metadata": {
        "id": "Pxps52vv3Bmh"
      },
      "source": [
        "We can now call the finite element solver with the generated mesh, hydraulic\n",
        "conductivity and the boundary condition. The sought hydraulic velocity\n",
        "distribution can then be calculated as the gradient field of\n",
        "$\\mathbf{v}=-\\nabla p$ and visualized using the generic `pg.show()` function.\n",
        "\n"
      ]
    },
    {
      "cell_type": "code",
      "execution_count": 11,
      "metadata": {
        "id": "QOS5qxIl3Bmi",
        "jupyter": {
          "outputs_hidden": false
        }
      },
      "outputs": [],
      "source": [
        "# Resolução da velocidade como o neg. do grad. do Pot. Hid.\n",
        "vel = -pg.solver.grad(mesh, p) * np.asarray([K, K, K]).T #4D\n"
      ]
    },
    {
      "cell_type": "code",
      "execution_count": null,
      "metadata": {},
      "outputs": [],
      "source": [
        "# Determinação da concentração salina por célula do poço\n",
        "Source_vector = pg.Vector(mesh.cellCount(), 0.0) \n",
        "for pos in bores:\n",
        "    sourceCell = mesh.findCell([pos, prof_poco])\n",
        "    if sourceCell:\n",
        "        Source_vector[sourceCell.id()] += TracerCon / sourceCell.size()  # g/(l s) \n",
        "\n",
        "\n",
        "\n",
        "fig, axs = plt.subplots(1,2,figsize=(12,12))\n",
        "pg.show(mesh, data=pg.abs(vel) * 1000, cMin=np.min(vel), cMax=np.max(vel),\n",
        "                label='Velocity $v$ in mm/s', ax=axs[0], cMap='YlGnBu', hold=True,showStats=True)\n",
        "pg.show(mesh, data=vel, color='y', linewidth=0.6, dropTol=1e-12, ax=axs[0],\n",
        "                hold=True)\n",
        "pg.show(mesh, data=Source_vector, ax=axs[1], label='Concentração salina nas células',cMap='terrain_r')\n"
      ]
    },
    {
      "cell_type": "code",
      "execution_count": null,
      "metadata": {
        "id": "NsFhmNNv3Bmj",
        "jupyter": {
          "outputs_hidden": false
        }
      },
      "outputs": [],
      "source": [
        "## Resolução do modelo de ADV DISP\n",
        "\n",
        "# Create dispersitivity, depending on the absolute velocity\n",
        "dispersion = pg.abs(vel) * 1e2  # think it is to transform from mm/s to m/s ?\n",
        "\n",
        "# Solve for injection time, but we need velocities on cell nodes\n",
        "veln = mt.cellDataToNodeData(mesh, vel)\n",
        "\n",
        "# Solve without injection starting with last result\n",
        "c1 = pg.solver.solveFiniteVolume(mesh, a=dispersion, f=Source_vector, vel=veln,\n",
        "                                 times=t, scheme='PS', verbose=0)\n",
        "c=1e-3*c1\n",
        "\n",
        "# We can now visualize the result:\n",
        "# Calculate statistics\n",
        "mean_c = np.mean(c)\n",
        "std_c = np.std(c)\n",
        "min_c = np.min(c)\n",
        "max_c = np.max(c)\n",
        "min_c_calc = 0.1 #mean_c - 1 * std_c\n",
        "max_c_calc = mean_c + 1 * std_c\n",
        "print(f\"Mean: {mean_c}, Std: {std_c}, Min: {min_c}, Max: {max_c}\")\n",
        "\n",
        "fig, axs= plt.subplots(3,10,figsize=(12,12))\n",
        "# Visualize the result\n",
        "for ci in c[0:][::100]:\n",
        "    pg.show(mesh, data=ci, cMin=min_c_calc, cMax=max_c_calc, cMap=\"terrain_r\", logScale=True,\n",
        "            label=\"Concentration c in g/l\", figsize=(4, 8), orientation='horizontal', axs=[ci])\n",
        "    \n"
      ]
    },
    {
      "cell_type": "code",
      "execution_count": null,
      "metadata": {
        "id": "w6f1RFiA3Bmj",
        "jupyter": {
          "outputs_hidden": false
        }
      },
      "outputs": [],
      "source": [
        "# ERT células de interação\n",
        "ertScheme = ert.createData(elecs=elecs, schemeName=ERT_Array, spacing=ERT_spac)\n",
        "\n",
        "meshERT = mt.createParaMesh(ertScheme, quality=mesh_quality, paraMaxCellSize=10, nLayers=1,\n",
        "boundaryMaxCellSize=7500, smooth=[1, 2])\n",
        "\n",
        "pg.show(meshERT)"
      ]
    },
    {
      "cell_type": "markdown",
      "metadata": {
        "vscode": {
          "languageId": "latex"
        }
      },
      "source": [
        "Lei de Archie\n",
        "\n",
        "$$R_f = R_r (1 - S_w)^m$$\n",
        "Rf is the fluid resistivity\n",
        "\n",
        "Rr is the rock resistivity\n",
        "\n",
        "Sf is the fluid saturation\n",
        "\n",
        "m is the cementation exponent"
      ]
    },
    {
      "cell_type": "code",
      "execution_count": null,
      "metadata": {},
      "outputs": [],
      "source": [
        "# Simulação elétrica por tempo, concentração e Lei de Archie\n",
        "timesERT = pg.IVector(np.floor(np.linspace(0, len(c1) - 1, number_of_timesERT)).astype(int)) # Select 10 time frame to simulate ERT data\n",
        "\n",
        "# Create conductivity of fluid for salt concentration :math:`c`\n",
        "sigmaFluid = c1[timesERT] * sigma_bx + sigma_a\n",
        "c1 = np.array(c1)  # Ensure c is a numpy array\n",
        "\n",
        "# Calculate bulk resistivity based on Archie's Law, by ratio of res water and sigmaFluid\n",
        "resBulk = petro.resistivityArchie(rFluid = res_water / sigmaFluid, porosity = phi, m=cementation_exponent, mesh=mesh, meshI=meshERT, fill=1)\n",
        "\n",
        "# apply background resistivity model\n",
        "rho0 = np.zeros(meshERT.cellCount())\n",
        "\n",
        "for cell in meshERT.cells():\n",
        "    if cell.center()[1] < Layer3:\n",
        "        rho0[cell.id()] = RLayer3\n",
        "    elif cell.center()[1] < Layer2:\n",
        "        rho0[cell.id()] = RLayer2\n",
        "    elif cell.center()[1] < Layer1:\n",
        "        rho0[cell.id()] = RLayer1\n",
        "resis = pg.Matrix(resBulk)\n",
        "for i, rbI in enumerate(resBulk):\n",
        "    resis[i] = 1. / ((1. / rbI) + 1. / rho0)\n",
        "\"\"\" \n",
        "## ISSUE\n",
        "##\n",
        "##  Não esquecer de adicionar \n",
        "## Adicionar a resistividade de cada camada no modelo\n",
        "##\n",
        "##\n",
        "\n",
        " \"\"\""
      ]
    },
    {
      "cell_type": "code",
      "execution_count": null,
      "metadata": {},
      "outputs": [],
      "source": [
        "for i in range(len(resis)):\n",
        "    mean_resis = np.mean(resis[i])\n",
        "    std_resis = np.std(resis[i])\n",
        "    min_resis = np.min(resis[i])\n",
        "    max_resis = np.max(resis[i])\n",
        "    print(f\"Timestep {i+1}:\")\n",
        "    print(f\"Mean: {mean_resis}, Std: {std_resis}, Min: {min_resis}, Max: {max_resis},\")\n",
        "    print()"
      ]
    },
    {
      "cell_type": "code",
      "execution_count": null,
      "metadata": {},
      "outputs": [],
      "source": [
        "ERT = ERTManager(verbose=False)\n",
        "\n",
        "# Run simulation for the apparent resistivities\n",
        "rhoa = ERT.simulate(meshERT, res=resis, scheme=ertScheme, \n",
        "                    returnArray=True, verbose=False,)# noiseLevel=1e-2, noiseAbs=1e-6,)\n",
        "print('Simulated rhoa', rhoa, np.max(rhoa))\n",
        "\n",
        "# Its possible that there are some negative data values due to noise and\n",
        "# huge geometric factors. So we need to remove them\n",
        "#rhoa.markInvalid(rhoa('rhoa') < 0)\n",
        "#print('Filtered rhoa', rhoa('rhoa'), max(rhoa('rhoa')))\n",
        "#rhoa.removeInvalid()\n",
        "\n",
        "# Optional: save the data for further use\n",
        "#data.save('simple.dat')\n",
        "\n",
        "# Calculate statistics for rhoa\n",
        "#Min_calcERT=mean_rhoa-2*std_rhoa\n",
        "#Max_calcERT=mean_rhoa+2*std_rhoa \n",
        "#cMin=1e-4\n",
        "#cMax=1\n",
        "\n",
        "# Plot the first 4 timesteps normalized by the first timestep\n",
        "# Print the statistics\n",
        "for i in range(len(rhoa)):\n",
        "\n",
        "    # Create a copy of the scheme for each visualization\n",
        "    tempScheme = ertScheme.copy()\n",
        "    tempScheme.set('rhoa', rhoa[i])\n",
        "    \n",
        "    mean_rhoa = np.mean(rhoa[i])\n",
        "    std_rhoa = np.std(rhoa[i])\n",
        "    min_rhoa = np.min(rhoa[i])\n",
        "    max_rhoa = np.max(rhoa[i])\n",
        "    Min_calcERT=min_rhoa\n",
        "    Max_calcERT=max_rhoa\n",
        "    print(f\"Timestep {i+1}:\")\n",
        "    print(f\"Mean: {mean_rhoa}, Std: {std_rhoa}, Min: {min_rhoa}, Max: {max_rhoa}, Min_calcERT: {Min_calcERT}, Max_calcERT: {Max_calcERT},\")\n",
        "    print()\n",
        "\n",
        "    # Show the data and get the Axes object\n",
        "    ax, _ = ERT.showData(tempScheme, data=rhoa[i],cMin=Min_calcERT,cMax=Max_calcERT,LogScale=True)\n",
        "\n",
        "\n",
        "    ax.set_ylim(y_limit, ax.get_ylim()[1])  # Set the lower limit Y cut-off\n",
        "\n",
        "    # Optionally, you can add titles or labels\n",
        "    ax.set_title(f'Timestep {i+1} normalized by Timestep 1')\n",
        "    ax.set_xlabel('X-axis label')  # Replace with your actual label\n",
        "    ax.set_ylabel('Y-axis label')  # Replace with your actual label\n",
        "\n",
        "    # Show the plot\n",
        "    plt.show()"
      ]
    },
    {
      "cell_type": "code",
      "execution_count": null,
      "metadata": {},
      "outputs": [],
      "source": [
        "ERT = ERTManager(verbose=False)\n",
        "\n",
        "# Run simulation for the apparent resistivities\n",
        "rhoa = ERT.simulate(meshERT, res=resis, scheme=ertScheme, \n",
        "                    returnArray=True, verbose=False,)# noiseLevel=1e-2, noiseAbs=1e-6,)\n",
        "print('Simulated rhoa', rhoa, np.max(rhoa))\n",
        "\n",
        "# Its possible that there are some negative data values due to noise and\n",
        "# huge geometric factors. So we need to remove them\n",
        "#rhoa.markInvalid(rhoa('rhoa') < 0)\n",
        "#print('Filtered rhoa', rhoa('rhoa'), max(rhoa('rhoa')))\n",
        "#rhoa.removeInvalid()\n",
        "\n",
        "# Optional: save the data for further use\n",
        "#data.save('simple.dat')\n",
        "\n",
        "# Calculate statistics for rhoa\n",
        "#Min_calcERT=mean_rhoa-2*std_rhoa\n",
        "#Max_calcERT=mean_rhoa+2*std_rhoa \n",
        "#cMin=1e-4\n",
        "#cMax=1\n",
        "\n",
        "# Plot the first 4 timesteps normalized by the first timestep\n",
        "# Print the statistics\n",
        "for i in range(len(rhoa)):\n",
        "\n",
        "    # Create a copy of the scheme for each visualization\n",
        "    tempScheme = ertScheme.copy()\n",
        "    tempScheme.set('rhoa', rhoa[i])\n",
        "    \n",
        "    mean_rhoa = np.mean(rhoa[i])\n",
        "    std_rhoa = np.std(rhoa[i])\n",
        "    min_rhoa = np.min(rhoa[i])\n",
        "    max_rhoa = np.max(rhoa[i])\n",
        "    Min_calcERT=min_rhoa\n",
        "    Max_calcERT=max_rhoa\n",
        "    print(f\"Timestep {i+1}:\")\n",
        "    print(f\"Mean: {mean_rhoa}, Std: {std_rhoa}, Min: {min_rhoa}, Max: {max_rhoa}, Min_calcERT: {Min_calcERT}, Max_calcERT: {Max_calcERT},\")\n",
        "    print()\n",
        "\n",
        "    # Show the data and get the Axes object\n",
        "    ax, _ = ERT.showData(tempScheme, vals=rhoa[i]/rhoa[0],cMin=Min_calcERT,cMax=Max_calcERT,LogScale=True)\n",
        "\n",
        "    ax.set_ylim(y_limit, ax.get_ylim()[1])  # Set the lower limit to DD12\n",
        "\n",
        "    # Optionally, you can add titles or labels\n",
        "    ax.set_title(f'Timestep {i+1} normalized by Timestep 1')\n",
        "    ax.set_xlabel('Comprimento em metros')  # Replace with your actual label\n",
        "    ax.set_ylabel('Y-axis label')  # Replace with your actual label\n",
        "\n",
        "    # Show the plot\n",
        "    plt.show()"
      ]
    },
    {
      "cell_type": "code",
      "execution_count": null,
      "metadata": {
        "id": "YUUGfIx13Bmk",
        "jupyter": {
          "outputs_hidden": false
        }
      },
      "outputs": [],
      "source": [
        "#Backup\n",
        "\"\"\" ERT = ERTManager(verbose=False)\n",
        "# Run  simulation for  the apparent resistivities\n",
        "rhoa = ERT.simulate(meshERT, res=resis, scheme=ertScheme,\n",
        "                    returnArray=True, verbose=False)\n",
        "\n",
        "for i in range(4):\n",
        "    ERT.showData(ertScheme, vals=rhoa[i]/rhoa[0], logScale=False, label='Apparent resistivity',) \"\"\""
      ]
    },
    {
      "cell_type": "raw",
      "metadata": {
        "vscode": {
          "languageId": "raw"
        }
      },
      "source": [
        "# Create data container for inversion\n",
        "data = ert.createData(elecs=elecs, schemeName=ERT_Array)\n",
        "data.set('rhoa', rhoa[0])  # Use first time step for inversion\n",
        "\n",
        "# Add error values (3% relative error)\n",
        "data.set('err', np.ones(data.size()) * 0.03)\n",
        "\n",
        "# Initialize ERTManager with data\n",
        "mgr = ERTManager(data=data, verbose=False)\n",
        "mgr.setMesh(meshERT)\n",
        "mgr.invert()\n",
        "\n"
      ]
    },
    {
      "cell_type": "raw",
      "metadata": {
        "vscode": {
          "languageId": "raw"
        }
      },
      "source": [
        "# OK  # Corta dado FUNFANDO\n",
        "# Create some mesh and data just for demo\n",
        "mesh_teste = pg.createGrid(200,50)\n",
        "c = mesh_teste.cellCenters()\n",
        "data = np.sin(pg.x(c)) + pg.y(c)\n",
        "\n",
        "\n",
        "\"\"\" # Corta dado FUNFANDO\n",
        "# Filter data to include only values with Y greater than 2\n",
        "mask = pg.y(c) > 2\n",
        "filtered_data = data[mask]\n",
        "# Create a new mesh from the filtered cells\n",
        "filtered_cells = [cell for cell, m in zip(mesh_teste.cells(), mask) if m]\n",
        "filtered_mesh = pg.Mesh(dim=2)\n",
        "nodes = []\n",
        "for cell in filtered_cells:\n",
        "    for node in cell.nodes():\n",
        "        if node not in nodes:\n",
        "            nodes.append(node)\n",
        "            filtered_mesh.createNode(node.pos())\n",
        "    filtered_mesh.createCell([filtered_mesh.findNearestNode(n.pos()) for n in cell.nodes()])\n",
        "# Assign the filtered data to the new mesh\n",
        "filtered_mesh['data'] = filtered_data\n",
        "\n",
        "pg.show(filtered_mesh, figsize=(6,4), data=filtered_data,orientation='vertical')\n",
        "\n",
        "# \"\"\"\n",
        "\n",
        "pg.show(mesh_teste, data, figsize=(6,4), showMesh=False, orientation='vertical')\n"
      ]
    }
  ],
  "metadata": {
    "colab": {
      "include_colab_link": true,
      "provenance": []
    },
    "kernelspec": {
      "display_name": "pg",
      "language": "python",
      "name": "python3"
    },
    "language_info": {
      "codemirror_mode": {
        "name": "ipython",
        "version": 3
      },
      "file_extension": ".py",
      "mimetype": "text/x-python",
      "name": "python",
      "nbconvert_exporter": "python",
      "pygments_lexer": "ipython3",
      "version": "3.11.11"
    }
  },
  "nbformat": 4,
  "nbformat_minor": 0
}
